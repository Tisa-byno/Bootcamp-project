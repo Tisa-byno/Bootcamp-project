{
  "nbformat": 4,
  "nbformat_minor": 0,
  "metadata": {
    "colab": {
      "name": "Untitled1.ipynb",
      "provenance": [],
      "toc_visible": true,
      "authorship_tag": "ABX9TyOlwqHfvEKZUK1EsIHqsd0G",
      "include_colab_link": true
    },
    "kernelspec": {
      "name": "python3",
      "display_name": "Python 3"
    },
    "language_info": {
      "name": "python"
    }
  },
  "cells": [
    {
      "cell_type": "markdown",
      "metadata": {
        "id": "view-in-github",
        "colab_type": "text"
      },
      "source": [
        "<a href=\"https://colab.research.google.com/github/Tisa-byno/Bootcamp-project/blob/main/Bootcamp%20project.ipynb\" target=\"_parent\"><img src=\"https://colab.research.google.com/assets/colab-badge.svg\" alt=\"Open In Colab\"/></a>"
      ]
    },
    {
      "cell_type": "code",
      "metadata": {
        "id": "MXpzVBKMRwB7",
        "colab": {
          "base_uri": "https://localhost:8080/",
          "height": 86
        },
        "outputId": "082b1c9b-2454-4e49-a5b4-40f3f6eaf89f"
      },
      "source": [
        "import pandas as pd \n",
        "import numpy as np\n",
        "\n",
        "\"\"\"## **READING DATA USING PANDAS**\n",
        "We use pandas *read_csv* function to read the csv file in python and pandas *DataFrame* method to convert file into the data frame.\n",
        "\"\"\"\n",
        "\n",
        "df = pd.DataFrame(pd.read_csv('/content/train (1).csv'))\n",
        "df.head()\n",
        "\n",
        "\"\"\"## **Description of the attributes of the datasheet**\n",
        "Pclass:Passenger Class(1 = 1st; 2 = 2nd; 3 = 3rd)\n",
        "survival:Survival (0 = No, 1 = Yes)\n",
        "name: Name\n",
        "sex: Sex\n",
        "age: Age\n",
        "sibsp: Number of Siblings/Spouses Aboard\n",
        "parch: Number of Parents/Childern Aborad\n",
        "ticket: Ticket Number\n",
        "fare: Passenger Fare (British pound)\n",
        "cabin: Cabin\n",
        "embarked: Port of Embarkation (C = Cherbourg; Q = Queenstown; S = Southampton)\n",
        "\"\"\"\n",
        "\n",
        "df.isnull().sum()\n",
        "\n",
        "\"\"\"Sepratimg out the columns which have more than 35% of the values missing in the datasheet\"\"\"\n",
        "\n",
        "# df.insull().sum() returns a pandas series with columns name as the label index\n",
        "# and total count of null values in the column as it's value\n",
        "# And we are storing only those column which have more than 35% of the data missing\n",
        "\n",
        "drop_col = df.isnull().sum()[df.isnull().sum()>(35/100 * df.shape[0])]\n",
        "drop_col\n",
        "\n",
        "\"\"\"\n",
        "> **NOTE**: There is no specific number after which you should drop the column .It's just that we decided that on our own according to what we want.\n",
        "\"\"\"\n",
        "\n",
        "drop_col.index\n",
        "\n",
        "df.drop(drop_col.index, axis=1, inplace=True)\n",
        "df.isnull().sum()\n",
        "\n",
        "df.fillna(df.mean(), inplace = True)\n",
        "df.isnull().sum()\n",
        "\n",
        "\"\"\"Because **Embraked** contains string values, we see the details of that column separately from others as strings does not mean and all. \"\"\"\n",
        "\n",
        "df['Embarked'].describe()\n",
        "\n",
        "\"\"\"For Embarked attribute, we fill the NULL values with the most frequent value in the column.\n",
        "\"\"\"\n",
        "\n",
        "df['Embarked'].fillna('S',inplace=True)\n",
        "\n",
        "df.isnull().sum()             ## NOW ALL THE NULL VALUES HAVE BEEN FILLED\n",
        "\n",
        "df.corr()\n",
        "\n",
        "\"\"\"**sibsp**: Number of Siblings/Spouses Aboard\n",
        "**parch**: Number of Parents/Childern Aborad\n",
        "So we can make a new column family_size by combaining these two columns\n",
        "\"\"\"\n",
        "\n",
        "df['FamilySize'] = df['SibSp'] + df['Parch']\n",
        "df.drop(['SibSp', 'Parch'], axis=1, inplace=True)\n",
        "df.corr()\n",
        "\n",
        "\"\"\"**FamilySize in the ship does not have much correlance with survival rate**\n",
        "Let's check if we weather the person was alone or not can affect the survival rate\n",
        "\"\"\"\n",
        "\n",
        "df['Alone'] = [0 if df['FamilySize'][i]>0 else 1 for i in df.index]\n",
        "df.head()\n",
        "\n",
        "df.groupby(['Alone'])['Survived'].mean()\n",
        "\n",
        "\"\"\"If  the persom is alone he/she has less chance of surviving\n",
        "> The reason might be the person who is traveling with his family might be belonging to rich class and might be prioritized over other.\n",
        "\"\"\"\n",
        "\n",
        "df[['Alone','Fare']].corr()\n",
        "\n",
        "\"\"\"So we can see if the person was not alone, the chance the ticket price is higher.\"\"\"\n",
        "\n",
        "df['Sex'] = [0 if df['Sex'][i]=='male' else 1 for i in df.index]     # 1 for female, 0 for male\n",
        "df.groupby(['Sex'])['Survived'].mean()\n",
        "\n",
        "\"\"\"It shows, female passengers have more chance of surviving than male ones.\n",
        "It shows women were proritized over men.\n",
        "\"\"\"\n",
        "\n",
        "df.groupby(['Embarked'])['Survived'].mean()\n",
        "\n",
        "\"\"\"# **CONCLUSION**\n",
        "*   Passengers who borded the ship at Cherbourg, survived more in proportion then the others.\n",
        "*   People with high class or rich people have higher survival rate than others. The hierarichy might have been followed while saving the passengers.\n",
        "*   Passengers travelling with their family have higher survival rate.\n",
        "*   Female passengers were prioritized over men.\n",
        "\"\"\""
      ],
      "execution_count": 12,
      "outputs": [
        {
          "output_type": "execute_result",
          "data": {
            "application/vnd.google.colaboratory.intrinsic+json": {
              "type": "string"
            },
            "text/plain": [
              "'# **CONCLUSION**\\n*   Passengers who borded the ship at Cherbourg, survived more in proportion then the others.\\n*   People with high class or rich people have higher survival rate than others. The hierarichy might have been followed while saving the passengers.\\n*   Passengers travelling with their family have higher survival rate.\\n*   Female passengers were prioritized over men.\\n'"
            ]
          },
          "metadata": {
            "tags": []
          },
          "execution_count": 12
        }
      ]
    }
  ]
}